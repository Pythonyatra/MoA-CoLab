{
  "nbformat": 4,
  "nbformat_minor": 0,
  "metadata": {
    "colab": {
      "name": "DataExtractionKaggle.ipynb",
      "provenance": [],
      "collapsed_sections": [],
      "authorship_tag": "ABX9TyNKur26xt6ciO0mZZn2OtuV",
      "include_colab_link": true
    },
    "kernelspec": {
      "name": "python3",
      "display_name": "Python 3"
    }
  },
  "cells": [
    {
      "cell_type": "markdown",
      "metadata": {
        "id": "view-in-github",
        "colab_type": "text"
      },
      "source": [
        "<a href=\"https://colab.research.google.com/github/Pythonyatra/MoA-CoLab/blob/master/DataExtractionKaggle.ipynb\" target=\"_parent\"><img src=\"https://colab.research.google.com/assets/colab-badge.svg\" alt=\"Open In Colab\"/></a>"
      ]
    },
    {
      "cell_type": "code",
      "metadata": {
        "id": "u33T6eGwGL3I",
        "colab_type": "code",
        "colab": {}
      },
      "source": [
        "def upload_kaggle_jason():\n",
        "  \n",
        "  from google.colab import files\n",
        "  files.upload()\n",
        "\n",
        "  print('kaggle.json uploaded.')"
      ],
      "execution_count": null,
      "outputs": []
    },
    {
      "cell_type": "code",
      "metadata": {
        "id": "j38ANtyLDLGt",
        "colab_type": "code",
        "colab": {}
      },
      "source": [
        "def download_data():\n",
        "\n",
        "  !pip install kaggle\n",
        "  !mkdir ~/.kaggle\n",
        "  !cp kaggle.json ~/.kaggle\n",
        "  !chmod 600 ~/.kaggle/kaggle.json\n",
        "  !kaggle competitions download -c lish-moa\n",
        "  !mkdir datasets\n",
        "  !mv *.zip ./datasets/\n",
        "  !ls ./datasets\n",
        "  !unzip datasets/test_features.csv.zip\n",
        "  !unzip datasets/train_features.csv.zip\n",
        "  !unzip datasets/train_targets_nonscored.csv.zip\n",
        "  !unzip datasets/train_targets_scored.csv.zip\n",
        "  !unzip datasets/sample_submission.csv.zip\n",
        "  !mv *.csv ./datasets/\n",
        "\n",
        "  %cd datasets\n",
        "  !rm *.zip\n",
        "  \n",
        "\n",
        "  print('Required data can be found under datasets')"
      ],
      "execution_count": 5,
      "outputs": []
    },
    {
      "cell_type": "code",
      "metadata": {
        "id": "qnDlJlKEDTCv",
        "colab_type": "code",
        "colab": {}
      },
      "source": [
        "#download_data()"
      ],
      "execution_count": null,
      "outputs": []
    },
    {
      "cell_type": "code",
      "metadata": {
        "id": "KNec-xbzFB6m",
        "colab_type": "code",
        "colab": {}
      },
      "source": [
        "import pandas as pd"
      ],
      "execution_count": 24,
      "outputs": []
    },
    {
      "cell_type": "code",
      "metadata": {
        "id": "h615eS8MFv7-",
        "colab_type": "code",
        "colab": {}
      },
      "source": [
        "train = pd.read_csv('/content/datasets/train_features.csv')"
      ],
      "execution_count": 26,
      "outputs": []
    },
    {
      "cell_type": "code",
      "metadata": {
        "id": "9CZEvzaGF3fn",
        "colab_type": "code",
        "colab": {
          "base_uri": "https://localhost:8080/",
          "height": 34
        },
        "outputId": "a42222e7-d693-4503-d264-9c732111d9ae"
      },
      "source": [
        "train.shape"
      ],
      "execution_count": 27,
      "outputs": [
        {
          "output_type": "execute_result",
          "data": {
            "text/plain": [
              "(23814, 876)"
            ]
          },
          "metadata": {
            "tags": []
          },
          "execution_count": 27
        }
      ]
    },
    {
      "cell_type": "code",
      "metadata": {
        "id": "IG4QGW3DF9xO",
        "colab_type": "code",
        "colab": {}
      },
      "source": [
        ""
      ],
      "execution_count": null,
      "outputs": []
    }
  ]
}