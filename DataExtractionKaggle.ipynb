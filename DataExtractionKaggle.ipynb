{
  "nbformat": 4,
  "nbformat_minor": 0,
  "metadata": {
    "colab": {
      "name": "DataExtractionKaggle.ipynb",
      "provenance": [],
      "collapsed_sections": [],
      "authorship_tag": "ABX9TyP+4ffH/o/GnZCJN7LIjeQ7",
      "include_colab_link": true
    },
    "kernelspec": {
      "name": "python3",
      "display_name": "Python 3"
    }
  },
  "cells": [
    {
      "cell_type": "markdown",
      "metadata": {
        "id": "view-in-github",
        "colab_type": "text"
      },
      "source": [
        "<a href=\"https://colab.research.google.com/github/Pythonyatra/MoA-CoLab/blob/master/DataExtractionKaggle.ipynb\" target=\"_parent\"><img src=\"https://colab.research.google.com/assets/colab-badge.svg\" alt=\"Open In Colab\"/></a>"
      ]
    },
    {
      "cell_type": "code",
      "metadata": {
        "id": "j38ANtyLDLGt",
        "colab_type": "code",
        "colab": {}
      },
      "source": [
        "def download_data():\n",
        "\n",
        "  # from google.colab import files\n",
        "  # files.upload()\n",
        "\n",
        "  !pip install kaggle\n",
        "  !mkdir ~/.kaggle\n",
        "  !cp kaggle.json ~/.kaggle\n",
        "  !chmod 600 ~/.kaggle/kaggle.json\n",
        "  !kaggle competitions download -c lish-moa\n",
        "  !mkdir datasets\n",
        "  !mv *.zip ./datasets/\n",
        "  !ls ./datasets\n",
        "  !unzip datasets/test_features.csv.zip\n",
        "  !unzip datasets/train_features.csv.zip\n",
        "  !unzip datasets/train_targets_nonscored.csv.zip\n",
        "  !unzip datasets/train_targets_scored.csv.zip\n",
        "  !unzip datasets/sample_submission.csv.zip\n",
        "  !mv *.csv ./datasets/\n",
        "\n",
        "  %cd datasets\n",
        "  !rm *\n",
        "  \n",
        "\n",
        "  print('Required data can be found under datasets')"
      ],
      "execution_count": 5,
      "outputs": []
    },
    {
      "cell_type": "code",
      "metadata": {
        "id": "qnDlJlKEDTCv",
        "colab_type": "code",
        "colab": {
          "base_uri": "https://localhost:8080/",
          "height": 802
        },
        "outputId": "6dc32268-c45b-42ea-be23-3b6d94a863c4"
      },
      "source": [
        "download_data()"
      ],
      "execution_count": 6,
      "outputs": [
        {
          "output_type": "stream",
          "text": [
            "Requirement already satisfied: kaggle in /usr/local/lib/python3.6/dist-packages (1.5.8)\n",
            "Requirement already satisfied: tqdm in /usr/local/lib/python3.6/dist-packages (from kaggle) (4.41.1)\n",
            "Requirement already satisfied: requests in /usr/local/lib/python3.6/dist-packages (from kaggle) (2.23.0)\n",
            "Requirement already satisfied: python-slugify in /usr/local/lib/python3.6/dist-packages (from kaggle) (4.0.1)\n",
            "Requirement already satisfied: slugify in /usr/local/lib/python3.6/dist-packages (from kaggle) (0.0.1)\n",
            "Requirement already satisfied: certifi in /usr/local/lib/python3.6/dist-packages (from kaggle) (2020.6.20)\n",
            "Requirement already satisfied: python-dateutil in /usr/local/lib/python3.6/dist-packages (from kaggle) (2.8.1)\n",
            "Requirement already satisfied: six>=1.10 in /usr/local/lib/python3.6/dist-packages (from kaggle) (1.15.0)\n",
            "Requirement already satisfied: urllib3<1.25,>=1.21.1 in /usr/local/lib/python3.6/dist-packages (from kaggle) (1.24.3)\n",
            "Requirement already satisfied: idna<3,>=2.5 in /usr/local/lib/python3.6/dist-packages (from requests->kaggle) (2.10)\n",
            "Requirement already satisfied: chardet<4,>=3.0.2 in /usr/local/lib/python3.6/dist-packages (from requests->kaggle) (3.0.4)\n",
            "Requirement already satisfied: text-unidecode>=1.3 in /usr/local/lib/python3.6/dist-packages (from python-slugify->kaggle) (1.3)\n",
            "mkdir: cannot create directory ‘/root/.kaggle’: File exists\n",
            "Warning: Looks like you're using an outdated API Version, please consider updating (server 1.5.6 / client 1.5.4)\n",
            "Downloading train_targets_nonscored.csv.zip to /content\n",
            "  0% 0.00/233k [00:00<?, ?B/s]\n",
            "100% 233k/233k [00:00<00:00, 81.7MB/s]\n",
            "Downloading sample_submission.csv.zip to /content\n",
            "  0% 0.00/38.9k [00:00<?, ?B/s]\n",
            "100% 38.9k/38.9k [00:00<00:00, 40.1MB/s]\n",
            "Downloading train_features.csv.zip to /content\n",
            " 75% 41.0M/54.8M [00:02<00:01, 7.34MB/s]\n",
            "100% 54.8M/54.8M [00:02<00:00, 19.3MB/s]\n",
            "Downloading train_targets_scored.csv.zip to /content\n",
            "  0% 0.00/257k [00:00<?, ?B/s]\n",
            "100% 257k/257k [00:00<00:00, 80.6MB/s]\n",
            "Downloading test_features.csv.zip to /content\n",
            "  0% 0.00/9.16M [00:00<?, ?B/s]\n",
            "100% 9.16M/9.16M [00:00<00:00, 149MB/s]\n",
            "mkdir: cannot create directory ‘datasets’: File exists\n",
            "sample_submission.csv.zip  train_targets_nonscored.csv.zip\n",
            "test_features.csv.zip\t   train_targets_scored.csv.zip\n",
            "train_features.csv.zip\n",
            "Archive:  datasets/test_features.csv.zip\n",
            "  inflating: test_features.csv       \n",
            "Archive:  datasets/train_features.csv.zip\n",
            "  inflating: train_features.csv      \n",
            "Archive:  datasets/train_targets_nonscored.csv.zip\n",
            "  inflating: train_targets_nonscored.csv  \n",
            "Archive:  datasets/train_targets_scored.csv.zip\n",
            "  inflating: train_targets_scored.csv  \n",
            "Archive:  datasets/sample_submission.csv.zip\n",
            "  inflating: sample_submission.csv   \n",
            "rm: cannot remove '*.zip': No such file or directory\n",
            "data downloaded.\n"
          ],
          "name": "stdout"
        }
      ]
    },
    {
      "cell_type": "code",
      "metadata": {
        "id": "9PI-QqoXDU4T",
        "colab_type": "code",
        "colab": {}
      },
      "source": [
        "!mv *.csv ./datasets/"
      ],
      "execution_count": 7,
      "outputs": []
    },
    {
      "cell_type": "code",
      "metadata": {
        "id": "UnIGSlwTEUo7",
        "colab_type": "code",
        "colab": {
          "base_uri": "https://localhost:8080/",
          "height": 51
        },
        "outputId": "d4838812-bbb9-4b86-b99e-3a83e19e0d00"
      },
      "source": [
        "!rm *.zip ./datasets"
      ],
      "execution_count": 8,
      "outputs": [
        {
          "output_type": "stream",
          "text": [
            "rm: cannot remove '*.zip': No such file or directory\n",
            "rm: cannot remove './datasets': Is a directory\n"
          ],
          "name": "stdout"
        }
      ]
    },
    {
      "cell_type": "code",
      "metadata": {
        "id": "ZiWAgld8EX9W",
        "colab_type": "code",
        "colab": {
          "base_uri": "https://localhost:8080/",
          "height": 34
        },
        "outputId": "60d27e09-5514-4ede-8e11-1d6175285447"
      },
      "source": [
        "!cd /datasets"
      ],
      "execution_count": 12,
      "outputs": [
        {
          "output_type": "stream",
          "text": [
            "/bin/bash: line 0: cd: /datasets: No such file or directory\n"
          ],
          "name": "stdout"
        }
      ]
    },
    {
      "cell_type": "code",
      "metadata": {
        "id": "PcmJqH6wEaBq",
        "colab_type": "code",
        "colab": {
          "base_uri": "https://localhost:8080/",
          "height": 35
        },
        "outputId": "3e3ee36e-0e48-40c6-ec72-18239a04431f"
      },
      "source": [
        "%pwd"
      ],
      "execution_count": 13,
      "outputs": [
        {
          "output_type": "execute_result",
          "data": {
            "application/vnd.google.colaboratory.intrinsic+json": {
              "type": "string"
            },
            "text/plain": [
              "'/content'"
            ]
          },
          "metadata": {
            "tags": []
          },
          "execution_count": 13
        }
      ]
    },
    {
      "cell_type": "code",
      "metadata": {
        "id": "91HdkU9uEc0_",
        "colab_type": "code",
        "colab": {
          "base_uri": "https://localhost:8080/",
          "height": 34
        },
        "outputId": "ab21cd26-1fcd-4e5d-d60f-7c5ccb47665d"
      },
      "source": [
        "!ls"
      ],
      "execution_count": 14,
      "outputs": [
        {
          "output_type": "stream",
          "text": [
            "datasets  kaggle.json  sample_data\n"
          ],
          "name": "stdout"
        }
      ]
    },
    {
      "cell_type": "code",
      "metadata": {
        "id": "fM7TnHBbEeI3",
        "colab_type": "code",
        "colab": {}
      },
      "source": [
        "!cd datasets"
      ],
      "execution_count": 15,
      "outputs": []
    },
    {
      "cell_type": "code",
      "metadata": {
        "id": "BpNnxKRAEliw",
        "colab_type": "code",
        "colab": {
          "base_uri": "https://localhost:8080/",
          "height": 34
        },
        "outputId": "c020b5bb-9972-46e8-8d2a-da3d37cfcf32"
      },
      "source": [
        "!ls"
      ],
      "execution_count": 16,
      "outputs": [
        {
          "output_type": "stream",
          "text": [
            "datasets  kaggle.json  sample_data\n"
          ],
          "name": "stdout"
        }
      ]
    },
    {
      "cell_type": "code",
      "metadata": {
        "id": "hiKpkyL_Em2o",
        "colab_type": "code",
        "colab": {}
      },
      "source": [
        "!cd datasets"
      ],
      "execution_count": 17,
      "outputs": []
    },
    {
      "cell_type": "code",
      "metadata": {
        "id": "3WCfQAm5EsS-",
        "colab_type": "code",
        "colab": {
          "base_uri": "https://localhost:8080/",
          "height": 34
        },
        "outputId": "1f14371f-540f-4a82-f7de-9b31650f70fa"
      },
      "source": [
        "!ls"
      ],
      "execution_count": 18,
      "outputs": [
        {
          "output_type": "stream",
          "text": [
            "datasets  kaggle.json  sample_data\n"
          ],
          "name": "stdout"
        }
      ]
    },
    {
      "cell_type": "code",
      "metadata": {
        "id": "piyr8pVXEtzW",
        "colab_type": "code",
        "colab": {
          "base_uri": "https://localhost:8080/",
          "height": 34
        },
        "outputId": "81076c93-c4f1-4f06-fd6b-9c0525c16c58"
      },
      "source": [
        "%cd datasets"
      ],
      "execution_count": 19,
      "outputs": [
        {
          "output_type": "stream",
          "text": [
            "/content/datasets\n"
          ],
          "name": "stdout"
        }
      ]
    },
    {
      "cell_type": "code",
      "metadata": {
        "id": "QbvsbkF9EwdE",
        "colab_type": "code",
        "colab": {
          "base_uri": "https://localhost:8080/",
          "height": 102
        },
        "outputId": "977739bd-9c1d-44ab-d459-3119425cd013"
      },
      "source": [
        "%ls"
      ],
      "execution_count": 20,
      "outputs": [
        {
          "output_type": "stream",
          "text": [
            "sample_submission.csv      train_features.csv.zip\n",
            "sample_submission.csv.zip  train_targets_nonscored.csv\n",
            "test_features.csv          train_targets_nonscored.csv.zip\n",
            "test_features.csv.zip      train_targets_scored.csv\n",
            "train_features.csv         train_targets_scored.csv.zip\n"
          ],
          "name": "stdout"
        }
      ]
    },
    {
      "cell_type": "code",
      "metadata": {
        "id": "xpcL1QmtExbj",
        "colab_type": "code",
        "colab": {}
      },
      "source": [
        "!rm *.zip"
      ],
      "execution_count": 21,
      "outputs": []
    },
    {
      "cell_type": "code",
      "metadata": {
        "id": "J-ryfRffFAGY",
        "colab_type": "code",
        "colab": {
          "base_uri": "https://localhost:8080/",
          "height": 51
        },
        "outputId": "879bf9e5-0aac-4795-9530-d25c081fd87a"
      },
      "source": [
        "!ls"
      ],
      "execution_count": 22,
      "outputs": [
        {
          "output_type": "stream",
          "text": [
            "sample_submission.csv  train_features.csv\t    train_targets_scored.csv\n",
            "test_features.csv      train_targets_nonscored.csv\n"
          ],
          "name": "stdout"
        }
      ]
    },
    {
      "cell_type": "code",
      "metadata": {
        "id": "KNec-xbzFB6m",
        "colab_type": "code",
        "colab": {}
      },
      "source": [
        ""
      ],
      "execution_count": null,
      "outputs": []
    }
  ]
}